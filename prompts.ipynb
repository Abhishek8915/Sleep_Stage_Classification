{
 "cells": [
  {
   "cell_type": "markdown",
   "id": "1e25e194",
   "metadata": {},
   "source": [
    "\"I want to generate a complete and optimal code pipeline for [task], based on [model/architecture] and [preprocessing], using [dataset]. The goal is to build a lightweight, deployable, and generalized model suitable for edge or wearable devices. Please apply best practices in performance, code modularity, and optimization. Follow the below conditions carefully:\" "
   ]
  },
  {
   "cell_type": "markdown",
   "id": "1ec02b09",
   "metadata": {},
   "source": [
    "If any doubt arises, ask me before generating the code. \n",
    "\n",
    "Handle all errors clearly with explanations and fix suggestions. \n",
    "\n",
    "Provide plots, performance metrics, and tuning options. \n",
    "\n",
    "Print warnings or potential missteps, especially for generalization or overfitting. \n",
    "\n",
    "Mention changes clearly when modifying or debugging code. \n",
    "\n",
    "Highlight code parts where augmentation or tuning is critical. \n",
    "\n",
    "If the model is underperforming, suggest and apply relevant changes. "
   ]
  },
  {
   "cell_type": "code",
   "execution_count": null,
   "id": "1c39952b",
   "metadata": {},
   "outputs": [],
   "source": []
  },
  {
   "cell_type": "markdown",
   "id": "c7475222",
   "metadata": {},
   "source": [
    "🛠️ 1. Debugging & Error Handling "
   ]
  },
  {
   "cell_type": "code",
   "execution_count": 2,
   "id": "5c4a6cf6",
   "metadata": {},
   "outputs": [],
   "source": [
    "Prompt: \"Solve this error and give me back full code.\" \n",
    "\n",
    "Prompt: \"Still I am getting errors — solve it by identifying the exact issue; give me script/snippet to debug that location.\" \n",
    "\n",
    "Prompt: \"Explain the root cause of the error and fix it with an optimized solution.\" \n",
    "\n",
    "Prompt: \"Do only the mentioned change, keep rest of the things as they are.\" "
   ]
  },
  {
   "cell_type": "markdown",
   "id": "ca1874c2",
   "metadata": {},
   "source": [
    "🚀 2. Full Pipeline Generation "
   ]
  },
  {
   "cell_type": "code",
   "execution_count": null,
   "id": "e6a3da27",
   "metadata": {},
   "outputs": [],
   "source": [
    "Prompt: \"Generate a complete pipeline for sleep stage classification using 1D CNN/Hybrid model, from preprocessing to evaluation.\" \n",
    "\n",
    "Prompt: \"Include all preprocessing steps like StandardScaler, SMOTE, jittering, and time-warping.\" \n",
    "\n",
    "Prompt: \"Add plots and evaluation metrics (accuracy, Kappa, confusion matrix) at the end.\" \n",
    "\n",
    "Prompt: \"Integrate all model improvements and ensure light-weight compatibility for edge deployment.\" "
   ]
  },
  {
   "cell_type": "markdown",
   "id": "b6978285",
   "metadata": {},
   "source": [
    "📊 3. Evaluation and Visualization "
   ]
  },
  {
   "cell_type": "code",
   "execution_count": null,
   "id": "0f69b2fc",
   "metadata": {},
   "outputs": [],
   "source": [
    "Prompt: \"Print all relevant plots and performance metrics.\" \n",
    "\n",
    "Prompt: \"Generate confusion matrix, ROC-AUC (if binary), and per-class precision/recall.\" \n",
    "\n",
    "Prompt: \"Add loss/accuracy curves and compare multiple model runs if possible.\" "
   ]
  },
  {
   "cell_type": "markdown",
   "id": "ea105f78",
   "metadata": {},
   "source": [
    "🧠 4. Generalization & Overfitting"
   ]
  },
  {
   "cell_type": "code",
   "execution_count": 4,
   "id": "bec15fe2",
   "metadata": {},
   "outputs": [],
   "source": [
    "Prompt: \"Resolve overfitting — suggest and apply dropout, L2 regularization, noise layers, or data augmentation.\" \n",
    "\n",
    "Prompt: \"Suggest model architecture or tuning changes to reduce misclassifications.\" \n",
    "\n",
    "Prompt: \"What changes will make the model more generalizable for unseen data or subject variations?\" "
   ]
  },
  {
   "cell_type": "markdown",
   "id": "5a9a3e04",
   "metadata": {},
   "source": [
    "🧪 5. Data Augmentation "
   ]
  },
  {
   "cell_type": "code",
   "execution_count": null,
   "id": "1af187f8",
   "metadata": {},
   "outputs": [],
   "source": [
    "Prompt: \"Apply jittering, time-warp, and other augmentations effectively. Show difference in performance.\" \n",
    "\n",
    "Prompt: \"Print sample signals before and after augmentation for visualization.\" "
   ]
  },
  {
   "cell_type": "markdown",
   "id": "04194226",
   "metadata": {},
   "source": [
    "📉 6. Lightweight Deployment Goals "
   ]
  },
  {
   "cell_type": "code",
   "execution_count": 6,
   "id": "8fdd3f5b",
   "metadata": {},
   "outputs": [],
   "source": [
    "Prompt: \"Optimize the model to be lightweight for deployment on wearable/edge devices.\" \n",
    "\n",
    "Prompt: \"Reduce parameters using depthwise separable layers, pruning, quantization — show model summary before and after.\" \n",
    "\n"
   ]
  },
  {
   "cell_type": "markdown",
   "id": "ea5de5d6",
   "metadata": {},
   "source": [
    "🔍 7. Architecture Customization & Tuning "
   ]
  },
  {
   "cell_type": "code",
   "execution_count": null,
   "id": "5988e0bf",
   "metadata": {},
   "outputs": [],
   "source": [
    "Prompt: \"Tune CNN-RVFL hybrid model hyperparameters using GridSearch or any method — show results.\" \n",
    "\n",
    "Prompt: \"Replace Conv1D with Depthwise Separable Convolutions — show performance gain or loss.\" \n",
    "\n",
    "Prompt: \"Implement attention layer or feature-wise dropout if needed to improve performance.\" "
   ]
  },
  {
   "cell_type": "markdown",
   "id": "b5fc3476",
   "metadata": {},
   "source": [
    "🧼 8. Preprocessing / Input Handling "
   ]
  },
  {
   "cell_type": "code",
   "execution_count": 7,
   "id": "1d802da3",
   "metadata": {},
   "outputs": [],
   "source": [
    "Prompt: \"Write script to load .mat file, extract signals, split into 30s segments, and assign labels.\" \n",
    "\n",
    "Prompt: \"Convert EDF/XML to MAT with proper annotations, and prepare trainable dataset with 30256 + 1 format.\""
   ]
  },
  {
   "cell_type": "markdown",
   "id": "ca9d009a",
   "metadata": {},
   "source": [
    "📂 9. Experimental Tracking & Logging "
   ]
  },
  {
   "cell_type": "code",
   "execution_count": null,
   "id": "259eec37",
   "metadata": {},
   "outputs": [],
   "source": [
    "Prompt: \"Log each model configuration and performance metrics for comparison.\" \n",
    "\n",
    "Prompt: \"Add training logs and parameter count in final results summary.\" "
   ]
  },
  {
   "cell_type": "markdown",
   "id": "61bd308f",
   "metadata": {},
   "source": [
    "Advanced Early Stopping Strategy\n",
    "Combine:\n",
    "\n",
    "Standard early stopping (monitor val_loss)\n",
    "\n",
    "Gap-based stopping (monitor acc/loss gap)"
   ]
  }
 ],
 "metadata": {
  "kernelspec": {
   "display_name": "Python (TensorFlow GPU)",
   "language": "python",
   "name": "tf-gpu"
  },
  "language_info": {
   "codemirror_mode": {
    "name": "ipython",
    "version": 3
   },
   "file_extension": ".py",
   "mimetype": "text/x-python",
   "name": "python",
   "nbconvert_exporter": "python",
   "pygments_lexer": "ipython3",
   "version": "3.9.1"
  }
 },
 "nbformat": 4,
 "nbformat_minor": 5
}

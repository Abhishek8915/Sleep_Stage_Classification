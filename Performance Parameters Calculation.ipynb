{
 "cells": [
  {
   "cell_type": "code",
   "execution_count": 11,
   "id": "263164b1",
   "metadata": {},
   "outputs": [
    {
     "name": "stdout",
     "output_type": "stream",
     "text": [
      "Class-wise Precision: [0.9707759489418878, 0.854533152909337, 0.9442416196481912, 0.8791748526522594]\n",
      "Class-wise Sensitivity: [0.9684986595174263, 0.8635897435897436, 0.9246018849528762, 0.8908427339084274]\n",
      "Macro Precision: 0.9121813935379188\n",
      "Macro Sensitivity: 0.9118832554921185\n",
      "Micro Precision: 0.9121666666666667\n",
      "Micro Sensitivity: 0.9121666666666667\n",
      "Overall Accuracy: 0.9121666666666667\n"
     ]
    }
   ],
   "source": [
    "import numpy as np\n",
    "\n",
    "def calculate_metrics(confusion_matrix):\n",
    "    # Convert confusion matrix to a NumPy array for easier calculations\n",
    "    cm = np.array(confusion_matrix)\n",
    "    \n",
    "    # Initialize metrics\n",
    "    precision = []\n",
    "    sensitivity = []\n",
    "    \n",
    "    # Number of classes\n",
    "    num_classes = cm.shape[0]\n",
    "\n",
    "    # Calculate class-wise precision and sensitivity\n",
    "    for i in range(num_classes):\n",
    "        TP = cm[i, i]  # True Positives\n",
    "        FP = np.sum(cm[:, i]) - TP  # False Positives\n",
    "        FN = np.sum(cm[i, :]) - TP  # False Negatives\n",
    "        \n",
    "        # Precision and Sensitivity for class i\n",
    "        precision_i = TP / (TP + FP) if (TP + FP) > 0 else 0\n",
    "        sensitivity_i = TP / (TP + FN) if (TP + FN) > 0 else 0\n",
    "        \n",
    "        precision.append(precision_i)\n",
    "        sensitivity.append(sensitivity_i)\n",
    "    \n",
    "    # Calculate macro precision and sensitivity\n",
    "    macro_precision = np.mean(precision)\n",
    "    macro_sensitivity = np.mean(sensitivity)\n",
    "    \n",
    "    # Calculate micro precision and sensitivity\n",
    "    TP_micro = np.sum(np.diag(cm))\n",
    "    FP_micro = np.sum(cm) - TP_micro\n",
    "    FN_micro = np.sum(cm.sum(axis=1)) - TP_micro\n",
    "    \n",
    "    micro_precision = TP_micro / (TP_micro + FP_micro) if (TP_micro + FP_micro) > 0 else 0\n",
    "    micro_sensitivity = TP_micro / (TP_micro + FN_micro) if (TP_micro + FN_micro) > 0 else 0\n",
    "    \n",
    "    # Calculate overall accuracy\n",
    "    accuracy = TP_micro / np.sum(cm) if np.sum(cm) > 0 else 0\n",
    "    \n",
    "    return {\n",
    "        \"Class-wise Precision\": precision,\n",
    "        \"Class-wise Sensitivity\": sensitivity,\n",
    "        \"Macro Precision\": macro_precision,\n",
    "        \"Macro Sensitivity\": macro_sensitivity,\n",
    "        \"Micro Precision\": micro_precision,\n",
    "        \"Micro Sensitivity\": micro_sensitivity,\n",
    "        \"Overall Accuracy\": accuracy\n",
    "    }\n",
    "confusion_matrix = [\n",
    "   [2901, 44, 30, 2, 6, 6],  \n",
    "   [28, 2546, 251, 37, 11, 80],  \n",
    "   [25, 201, 2629, 36, 41, 128],\n",
    "   [5, 57, 46, 2815, 40, 33],\n",
    "   [5, 32, 70, 142, 2770, 79],\n",
    "   [14, 101, 136, 37, 41, 2571]\n",
    "]\n",
    "# Example confusion matrix for 4 classes\n",
    "# confusion_matrix = [\n",
    "#    [2890, 72, 12, 10],  # True Class 0\n",
    "#    [64, 2526, 81, 254],  # True Class 1\n",
    "#    [12, 115, 2845, 105],  # True Class 2\n",
    "#    [11, 243, 75, 2685]   # True Class 3\n",
    "# ]\n",
    "# confusion_matrix = [\n",
    "#    [2912, 81, 13],  # True Class 0\n",
    "#    [69, 2668, 251],  # True Class 1\n",
    "#    [29, 296, 2701],  # True Class 2\n",
    "# ]\n",
    "# confusion_matrix = [\n",
    "#     [4955, 67],  # True Class 0\n",
    "#     [126, 4852]   # True Class 3\n",
    "# ]\n",
    "\n",
    "\n",
    "\n",
    "# Calculate metrics\n",
    "metrics = calculate_metrics(confusion_matrix)\n",
    "\n",
    "# Display the results\n",
    "for key, value in metrics.items():\n",
    "    print(f\"{key}: {value}\")\n"
   ]
  },
  {
   "cell_type": "code",
   "execution_count": 1,
   "id": "7fed46af",
   "metadata": {},
   "outputs": [
    {
     "data": {
      "text/plain": [
       "'C:\\\\Users\\\\Hardik'"
      ]
     },
     "execution_count": 1,
     "metadata": {},
     "output_type": "execute_result"
    }
   ],
   "source": [
    "pwd"
   ]
  },
  {
   "cell_type": "code",
   "execution_count": 4,
   "id": "9a62fee6",
   "metadata": {},
   "outputs": [
    {
     "name": "stdout",
     "output_type": "stream",
     "text": [
      "Collecting opencv-python\n",
      "  Downloading opencv_python-4.10.0.84-cp37-abi3-win_amd64.whl (38.8 MB)\n",
      "Requirement already satisfied: numpy>=1.17.3 in c:\\programdata\\anaconda3\\lib\\site-packages (from opencv-python) (1.20.3)\n",
      "Installing collected packages: opencv-python\n",
      "Successfully installed opencv-python-4.10.0.84\n",
      "Note: you may need to restart the kernel to use updated packages.\n"
     ]
    }
   ],
   "source": [
    "pip install opencv-python"
   ]
  },
  {
   "cell_type": "code",
   "execution_count": 5,
   "id": "f307ab08",
   "metadata": {},
   "outputs": [
    {
     "name": "stdout",
     "output_type": "stream",
     "text": [
      "Note: you may need to restart the kernel to use updated packages.\n"
     ]
    },
    {
     "name": "stderr",
     "output_type": "stream",
     "text": [
      "ERROR: Could not find a version that satisfies the requirement cv2 (from versions: none)\n",
      "ERROR: No matching distribution found for cv2\n"
     ]
    }
   ],
   "source": [
    "pip install cv2"
   ]
  },
  {
   "cell_type": "code",
   "execution_count": 6,
   "id": "d611e202",
   "metadata": {},
   "outputs": [
    {
     "name": "stdout",
     "output_type": "stream",
     "text": [
      "4.10.0\n"
     ]
    }
   ],
   "source": [
    "import cv2\n",
    "print(cv2.__version__)\n"
   ]
  },
  {
   "cell_type": "code",
   "execution_count": 18,
   "id": "7a51d3cf",
   "metadata": {},
   "outputs": [
    {
     "data": {
      "image/png": "[encoded data removed]",
      "text/plain": [
       "<Figure size 432x288 with 1 Axes>"
      ]
     },
     "metadata": {
      "needs_background": "light"
     },
     "output_type": "display_data"
    }
   ],
   "source": [
    "import cv2\n",
    "from matplotlib import pyplot as plt\n",
    "\n",
    "# Load the image\n",
    "image = cv2.imread('7 class classification in CNN.jpeg')\n",
    "\n",
    "# Add larger text\n",
    "font = cv2.FONT_HERSHEY_SIMPLEX\n",
    "cv2.putText(image, 'Updated Text', (50, 50), font, 1, (255, 0, 0), 2, cv2.LINE_AA)\n",
    "\n",
    "# Save the new image\n",
    "cv2.imwrite('updated_confusion_matrix.png', image)\n",
    "\n",
    "# Show the updated image\n",
    "plt.imshow(cv2.cvtColor(image, cv2.COLOR_BGR2RGB))\n",
    "plt.show()\n"
   ]
  },
  {
   "cell_type": "markdown",
   "id": "62b07478",
   "metadata": {},
   "source": [
    "# Confusion Matrix "
   ]
  },
  {
   "cell_type": "code",
   "execution_count": 24,
   "id": "979df13a",
   "metadata": {},
   "outputs": [
    {
     "data": {
      "image/png": "[encoded data removed]",
      "text/plain": [
       "<Figure size 432x360 with 1 Axes>"
      ]
     },
     "metadata": {
      "needs_background": "light"
     },
     "output_type": "display_data"
    }
   ],
   "source": [
    "import matplotlib.pyplot as plt\n",
    "import seaborn as sns\n",
    "import numpy as np\n",
    "\n",
    "# Manually specified confusion matrix values\n",
    "conf_matrix = np.array([[2890, 72, 12, 10],   # Values for True Class 1\n",
    "                        [64, 2526, 81, 254],\n",
    "                        [12, 115, 2845, 105],\n",
    "                        [11, 243, 75, 2685]])\n",
    "#                         [22, 10, 9, 59, 1582, 14, 0],\n",
    "#                         [37, 4, 9, 30, 52, 3692, 3],\n",
    "#                        [17, 121, 59, 2817]])  # Values for True Class 2\n",
    "\n",
    "# Create a heatmap to visualize the confusion matrix with larger, bold fonts\n",
    "plt.figure(figsize=(6, 5))\n",
    "sns.heatmap(conf_matrix, annot=True, fmt='d', cmap='Blues', cbar=False,\n",
    "            xticklabels=['SR', 'EB', 'TR', 'AF'], yticklabels=['SR', 'EB', 'TR', 'AF'],\n",
    "            annot_kws={\"size\": 15, \"fontweight\": 'bold'})  # Control annotation font size and weight\n",
    "\n",
    "# Modify labels with larger, bold fonts\n",
    "plt.xlabel('Predicted Class', fontsize=12)\n",
    "plt.ylabel('True Class', fontsize=12)\n",
    "plt.xticks(fontsize=12, fontweight='bold')  # Change x-axis tick labels\n",
    "plt.yticks(fontsize=12, fontweight='bold')  # Change y-axis tick labels\n",
    "\n",
    "plt.show()"
   ]
  },
  {
   "cell_type": "markdown",
   "id": "cd50ead4",
   "metadata": {},
   "source": [
    "# Performance Parameters: Class-wise Precision, Class-wise Sensitivity, Macro Precision, Macro Sensitivity, Micro Precision, Micro Sensitivity, Overall Accuracy, Cohen's Kappa"
   ]
  },
  {
   "cell_type": "code",
   "execution_count": 12,
   "id": "94ee1291",
   "metadata": {},
   "outputs": [
    {
     "name": "stdout",
     "output_type": "stream",
     "text": [
      "Class-wise Precision: [0.9707759489418878, 0.854533152909337, 0.9442416196481912, 0.8791748526522594]\n",
      "Class-wise Sensitivity: [0.9684986595174263, 0.8635897435897436, 0.9246018849528762, 0.8908427339084274]\n",
      "Macro Precision: 0.9121813935379188\n",
      "Macro Sensitivity: 0.9118832554921185\n",
      "Micro Precision: 0.9121666666666667\n",
      "Micro Sensitivity: 0.9121666666666667\n",
      "Overall Accuracy: 0.9121666666666667\n",
      "Cohen's Kappa: 0.8828830059287702\n"
     ]
    }
   ],
   "source": [
    "import numpy as np\n",
    "\n",
    "def calculate_metrics(confusion_matrix):\n",
    "    # Convert confusion matrix to a NumPy array for easier calculations\n",
    "    cm = np.array(confusion_matrix)\n",
    "    \n",
    "    # Initialize metrics\n",
    "    precision = []\n",
    "    sensitivity = []\n",
    "    \n",
    "    # Number of classes\n",
    "    num_classes = cm.shape[0]\n",
    "\n",
    "    # Calculate class-wise precision and sensitivity\n",
    "    for i in range(num_classes):\n",
    "        TP = cm[i, i]  # True Positives\n",
    "        FP = np.sum(cm[:, i]) - TP  # False Positives\n",
    "        FN = np.sum(cm[i, :]) - TP  # False Negatives\n",
    "        \n",
    "        # Precision and Sensitivity for class i\n",
    "        precision_i = TP / (TP + FP) if (TP + FP) > 0 else 0\n",
    "        sensitivity_i = TP / (TP + FN) if (TP + FN) > 0 else 0\n",
    "        \n",
    "        precision.append(precision_i)\n",
    "        sensitivity.append(sensitivity_i)\n",
    "    \n",
    "    # Calculate macro precision and sensitivity\n",
    "    macro_precision = np.mean(precision)\n",
    "    macro_sensitivity = np.mean(sensitivity)\n",
    "    \n",
    "    # Calculate micro precision and sensitivity\n",
    "    TP_micro = np.sum(np.diag(cm))\n",
    "    FP_micro = np.sum(cm) - TP_micro\n",
    "    FN_micro = np.sum(cm.sum(axis=1)) - TP_micro\n",
    "    \n",
    "    micro_precision = TP_micro / (TP_micro + FP_micro) if (TP_micro + FP_micro) > 0 else 0\n",
    "    micro_sensitivity = TP_micro / (TP_micro + FN_micro) if (TP_micro + FN_micro) > 0 else 0\n",
    "    \n",
    "    # Calculate overall accuracy\n",
    "    accuracy = TP_micro / np.sum(cm) if np.sum(cm) > 0 else 0\n",
    "    \n",
    "    # Calculate Cohen's Kappa\n",
    "    total_samples = np.sum(cm)\n",
    "    p_o = np.trace(cm) / total_samples  # Observed agreement\n",
    "    row_totals = np.sum(cm, axis=1)\n",
    "    col_totals = np.sum(cm, axis=0)\n",
    "    p_e = np.sum(row_totals * col_totals) / (total_samples ** 2)  # Expected agreement\n",
    "    kappa = (p_o - p_e) / (1 - p_e) if (1 - p_e) > 0 else 0\n",
    "\n",
    "    return {\n",
    "        \"Class-wise Precision\": precision,\n",
    "        \"Class-wise Sensitivity\": sensitivity,\n",
    "        \"Macro Precision\": macro_precision,\n",
    "        \"Macro Sensitivity\": macro_sensitivity,\n",
    "        \"Micro Precision\": micro_precision,\n",
    "        \"Micro Sensitivity\": micro_sensitivity,\n",
    "        \"Overall Accuracy\": accuracy,\n",
    "        \"Cohen's Kappa\": kappa\n",
    "    }\n",
    "\n",
    "confusion_matrix = [\n",
    "   [2890, 72, 12, 10],  # True Class 0\n",
    "   [64, 2526, 81, 254],  # True Class 1\n",
    "   [12, 115, 2845, 105],  # True Class 2\n",
    "   [11, 243, 75, 2685]   # True Class 3\n",
    "]\n",
    "# Calculate metrics\n",
    "metrics = calculate_metrics(confusion_matrix)\n",
    "\n",
    "# Display the results\n",
    "for key, value in metrics.items():\n",
    "    print(f\"{key}: {value}\")\n"
   ]
  },
  {
   "cell_type": "markdown",
   "id": "0d0769ed",
   "metadata": {},
   "source": [
    "# Performance Parameters: Class-wise Precision, Class-wise Sensitivity, Class-wise F1-Score, Macro Precision, Macro Sensitivity, Macro F1-score, Micro Precision, Micro Sensitivity, Micro F1-score, Overall Accuracy"
   ]
  },
  {
   "cell_type": "code",
   "execution_count": 13,
   "id": "bbf5b24d",
   "metadata": {},
   "outputs": [
    {
     "name": "stdout",
     "output_type": "stream",
     "text": [
      "Class-wise Precision: [0.9707759489418878, 0.854533152909337, 0.9442416196481912, 0.8791748526522594]\n",
      "Class-wise Sensitivity: [0.9684986595174263, 0.8635897435897436, 0.9246018849528762, 0.8908427339084274]\n",
      "Class-wise F1-scores: [0.9696359671196109, 0.8590375786430879, 0.9343185550082101, 0.8849703361898484]\n",
      "Macro Precision: 0.9121813935379188\n",
      "Macro Sensitivity: 0.9118832554921185\n",
      "Macro F1-score: 0.9119906092401894\n",
      "Micro Precision: 0.9121666666666667\n",
      "Micro Sensitivity: 0.9121666666666667\n",
      "Micro F1-score: 0.9121666666666667\n",
      "Overall Accuracy: 0.9121666666666667\n"
     ]
    }
   ],
   "source": [
    "import numpy as np\n",
    "\n",
    "def calculate_metrics(confusion_matrix):\n",
    "    # Convert confusion matrix to a NumPy array for easier calculations\n",
    "    cm = np.array(confusion_matrix)\n",
    "    \n",
    "    # Initialize metrics\n",
    "    precision = []\n",
    "    sensitivity = []\n",
    "    f1_scores = []  # To store class-wise F1-scores\n",
    "    \n",
    "    # Number of classes\n",
    "    num_classes = cm.shape[0]\n",
    "\n",
    "    # Calculate class-wise precision, sensitivity, and F1-score\n",
    "    for i in range(num_classes):\n",
    "        TP = cm[i, i]  # True Positives\n",
    "        FP = np.sum(cm[:, i]) - TP  # False Positives\n",
    "        FN = np.sum(cm[i, :]) - TP  # False Negatives\n",
    "        \n",
    "        # Precision and Sensitivity for class i\n",
    "        precision_i = TP / (TP + FP) if (TP + FP) > 0 else 0\n",
    "        sensitivity_i = TP / (TP + FN) if (TP + FN) > 0 else 0\n",
    "        \n",
    "        # F1-score for class i\n",
    "        f1_i = (2 * precision_i * sensitivity_i) / (precision_i + sensitivity_i) if (precision_i + sensitivity_i) > 0 else 0\n",
    "        \n",
    "        precision.append(precision_i)\n",
    "        sensitivity.append(sensitivity_i)\n",
    "        f1_scores.append(f1_i)\n",
    "    \n",
    "    # Calculate macro averages\n",
    "    macro_precision = np.mean(precision)\n",
    "    macro_sensitivity = np.mean(sensitivity)\n",
    "    macro_f1_score = np.mean(f1_scores)\n",
    "    \n",
    "    # Calculate micro averages\n",
    "    TP_micro = np.sum(np.diag(cm))\n",
    "    FP_micro = np.sum(cm) - TP_micro\n",
    "    FN_micro = np.sum(cm.sum(axis=1)) - TP_micro\n",
    "    \n",
    "    micro_precision = TP_micro / (TP_micro + FP_micro) if (TP_micro + FP_micro) > 0 else 0\n",
    "    micro_sensitivity = TP_micro / (TP_micro + FN_micro) if (TP_micro + FN_micro) > 0 else 0\n",
    "    micro_f1_score = (2 * micro_precision * micro_sensitivity) / (micro_precision + micro_sensitivity) if (micro_precision + micro_sensitivity) > 0 else 0\n",
    "    \n",
    "    # Calculate overall accuracy\n",
    "    accuracy = TP_micro / np.sum(cm) if np.sum(cm) > 0 else 0\n",
    "    \n",
    "    return {\n",
    "        \"Class-wise Precision\": precision,\n",
    "        \"Class-wise Sensitivity\": sensitivity,\n",
    "        \"Class-wise F1-scores\": f1_scores,\n",
    "        \"Macro Precision\": macro_precision,\n",
    "        \"Macro Sensitivity\": macro_sensitivity,\n",
    "        \"Macro F1-score\": macro_f1_score,\n",
    "        \"Micro Precision\": micro_precision,\n",
    "        \"Micro Sensitivity\": micro_sensitivity,\n",
    "        \"Micro F1-score\": micro_f1_score,\n",
    "        \"Overall Accuracy\": accuracy\n",
    "    }\n",
    "\n",
    "# Example confusion matrix for 4 classes\n",
    "confusion_matrix = [\n",
    "   [2890, 72, 12, 10],  # True Class 0\n",
    "   [64, 2526, 81, 254],  # True Class 1\n",
    "   [12, 115, 2845, 105],  # True Class 2\n",
    "   [11, 243, 75, 2685]   # True Class 3\n",
    "]\n",
    "\n",
    "# Calculate metrics\n",
    "metrics = calculate_metrics(confusion_matrix)\n",
    "\n",
    "# Display the results\n",
    "for key, value in metrics.items():\n",
    "    print(f\"{key}: {value}\")\n"
   ]
  },
  {
   "cell_type": "code",
   "execution_count": 25,
   "id": "868d4244",
   "metadata": {},
   "outputs": [
    {
     "name": "stdout",
     "output_type": "stream",
     "text": [
      "\n",
      "Classification Report:\n",
      "              precision    recall  f1-score   support\n",
      "\n",
      "           0     0.9674    0.9687    0.9681      3006\n",
      "           1     0.8762    0.8929    0.8845      2988\n",
      "           2     0.9110    0.8926    0.9017      3026\n",
      "\n",
      "    accuracy                         0.9181      9020\n",
      "   macro avg     0.9182    0.9181    0.9181      9020\n",
      "weighted avg     0.9183    0.9181    0.9181      9020\n",
      "\n",
      "Overall Accuracy: 0.9181\n",
      "Cohen's Kappa Score: 0.8771\n"
     ]
    }
   ],
   "source": [
    "import numpy as np\n",
    "from sklearn.metrics import classification_report, accuracy_score, cohen_kappa_score\n",
    "\n",
    "# ----- STEP 1: Manually enter your confusion matrix -----\n",
    "cm = np.array([\n",
    "    [2912, 81, 13],  \n",
    "    [69, 2668, 251],  \n",
    "    [29, 296, 2701], \n",
    "])\n",
    "\n",
    "# ----- STEP 2: Reconstruct y_true and y_pred -----\n",
    "y_true, y_pred = [], []\n",
    "\n",
    "for i in range(cm.shape[0]):\n",
    "    for j in range(cm.shape[1]):\n",
    "        count = cm[i, j]\n",
    "        y_true += [i] * count\n",
    "        y_pred += [j] * count\n",
    "\n",
    "# ----- STEP 3: Compute and print results -----\n",
    "accuracy = accuracy_score(y_true, y_pred)\n",
    "kappa = cohen_kappa_score(y_true, y_pred)\n",
    "report = classification_report(y_true, y_pred, digits=4)\n",
    "\n",
    "print(\"\\nClassification Report:\")\n",
    "print(report)\n",
    "print(f\"Overall Accuracy: {accuracy:.4f}\")\n",
    "print(f\"Cohen's Kappa Score: {kappa:.4f}\")\n"
   ]
  },
  {
   "cell_type": "code",
   "execution_count": null,
   "id": "eff98fc4",
   "metadata": {},
   "outputs": [],
   "source": []
  }
 ],
 "metadata": {
  "kernelspec": {
   "display_name": "Python 3 (ipykernel)",
   "language": "python",
   "name": "python3"
  },
  "language_info": {
   "codemirror_mode": {
    "name": "ipython",
    "version": 3
   },
   "file_extension": ".py",
   "mimetype": "text/x-python",
   "name": "python",
   "nbconvert_exporter": "python",
   "pygments_lexer": "ipython3",
   "version": "3.10.9"
  }
 },
 "nbformat": 4,
 "nbformat_minor": 5
}
